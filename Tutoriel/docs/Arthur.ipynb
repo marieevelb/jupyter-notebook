{
 "cells": [
  {
   "cell_type": "markdown",
   "metadata": {},
   "source": [
    "# Tutoriel : utiliser les données ouvertes du Service météorologique du Canada pour l'aide à la décision\n",
    "\n",
    "Les données du Service météorologique du Canada peuvent aisément être intégrées à des outils d'aide à la décision afin de faciliter la prise de décisions critiques. Ce tutoriel vous montrera comment extraire et traiter les données météorologiques brutes à l'aide du langage de programmation [Python](https://www.python.org/) afin de créer un outil d'aide à la décision basé sur la notion du rapport coût-perte.\n",
    "\n",
    "Prenons la situation suivante: un propriétaire de crèmerie nommé Arthur souhaite planifier le nombre d'employés qu'il y aura chaque jour à la crèmerie à l'aide des prévisions du Service météorologique du Canada. En effet, comme les journées chaudes de l'été amènent beaucoup plus de clients que les journées plus froides, il souhaite utiliser un outil d'aide à la décision afin de déterminer quel nombre d'employés lui permettra de maximiser ses profits chaque jour. Selon ses calculs, la crèmerie accueille 300 clients en moyenne les journées où la température est de 25°C ou plus alors qu'elle en accueille seulement 150 les journées où la température est inférieure à 25°C. La crèmerie ne nécessite normalement qu'un seul employé, mais un deuxième est nécessaire pour réussir à servir l'ensemble des clients lorsqu'il y a plus de 200 clients dans une journée.\n",
    "\n",
    "Afin de déterminer le nombre d'employés à mettre à l'horaire, Arthur va comparer la probabilité que la température soit égale ou supérieure à 25°C au rapport coût-perte de faire travailler un deuxième employé. Pour ce faire, la première étape est d'effectuer une requête avec le [standard Web Map Service (WMS)](https://eccc-msc.github.io/open-data/msc-geomet/web-services_fr/#web-map-service-wms) du Service météorologique du Canada afin d'obtenir la probabilité que la température soit de 25°C ou plus pour l'heure, la date et le lieu désiré à l'aide du langage de programmation Python. Pour réaliser cette étape, il faut tout d'abord importer les modules Python nécessaires à ce tutoriel et déterminer les paramètres de la requête comme la couche de données désirée, le lieu et les informations nécessaires pour obtenir la date et l'heure de chaque prédiction disponible.\n",
    "\n",
    "La couche qui sera utilisée est [REPS.DIAG.24_T8.ERGE25](https://eccc-msc.github.io/open-data/msc-data/nwp_reps/readme_reps_fr/). Celle-ci contient comme données la probabilité en pourcentage que la température maximale soit égale ou supérieure à 25°C. La période pour laquelle les prédictions sont disponibles et le pas de temps entre les prédictions a été obtenu en consultant les métadonnées de la couche à l'aide de la requête GetCapabilities suivante: https://geo.weather.gc.ca/geomet?SERVICE=WMS&VERSION=1.3.0&REQUEST=GetCapabilities&LAYERS=REPS.DIAG.24_T8.ERGE25."
   ]
  },
  {
   "cell_type": "code",
   "execution_count": 1,
   "metadata": {},
   "outputs": [],
   "source": [
    "# Installation de OWSlib si pas déjà installé\n",
    "# pip install OWSLib # Utiliser cette ligne si vous utilisez pip comme gestionnaire de packages Python\n",
    "# conda install -c conda-forge owslib # Utiliser cette ligne si vous utilisez conda comme gestionnaire de packages Python\n",
    "\n",
    "# Importation des modules Python \n",
    "from owslib.wms import WebMapService\n",
    "from datetime import datetime\n",
    "from datetime import timedelta\n",
    "import re\n",
    "\n",
    "# Choix des paramètres\n",
    "layer = 'REPS.DIAG.24_T8.ERGE25'  # Couche de données désirée\n",
    "y,x = 43.555, -73.55  # Coordonnées de l'endroit pour lequel on souhaite obtenir des prévisions\n",
    "timezone = -4 # Fuseau horaire local. Dans cet exemple, le fuseau horaire est UTC-04:00\n",
    "interval = 12 # Pas de temps entre les prédictions\n",
    "totaltime = 48 # Nombre d'heures total de la période de prédiction\n",
    "#starttime = 'AAAA-MM-JJ HH:00:00' # Si date et heure locale de départ spécifique, utiliser cette variable en enlevant le # et en remplaçant les lettres en majuscule par les bonnes valeurs"
   ]
  },
  {
   "cell_type": "markdown",
   "metadata": {},
   "source": [
    "La portion de code suivante permet d'obtenir le jour et l'heure des premières prédictions disponibles à partir du moment actuel considérant que pour cette couche de données, les prédictions disponibles sont celles des heures 00:00:00 UTC±00:00 et 12:00:00 UTC±00:00 et que les premières disponibles sont celles de demain."
   ]
  },
  {
   "cell_type": "code",
   "execution_count": 2,
   "metadata": {},
   "outputs": [],
   "source": [
    "now = datetime.now().replace(microsecond=0)\n",
    "\n",
    "if now < now.replace(hour=12, minute=0, second=0):\n",
    "    time = [now.replace(hour=0, minute=0, second=0) + timedelta(days = 1)]\n",
    "else:\n",
    "    time = [now.replace(hour=12, minute=0, second=0) + timedelta(days = 1)]"
   ]
  },
  {
   "cell_type": "markdown",
   "metadata": {},
   "source": [
    "Si l'on souhaite obtenir des prédictions à des dates et des heures locales spécifiques au lieu de toutes les prédictions disponibles, il faut accorder une valeur à la variable starttime dans les paramètres de la requête et enlever le # qui précède la ligne de code suivante. Dans notre exemple, Arthur souhaite obtenir toutes les prédictions disponibles, donc cette ligne de code n'est pas nécessaire."
   ]
  },
  {
   "cell_type": "code",
   "execution_count": 3,
   "metadata": {},
   "outputs": [],
   "source": [
    "# time = [datetime.strptime(starttime, '%Y-%m-%d %H:%M:%S') + timedelta(hours=0-timezone)]"
   ]
  },
  {
   "cell_type": "markdown",
   "metadata": {},
   "source": [
    "Maintenant que l'heure de la première prédiction a été déterminée, la portion de code suivante va permettre de calculer la date et l'heure de chaque prédiction désirée ainsi que le paramètre bbox de la requête (portion du territoire visée par la requête)."
   ]
  },
  {
   "cell_type": "code",
   "execution_count": 4,
   "metadata": {},
   "outputs": [],
   "source": [
    "# Calcul de la date et l'heure de chaque prédiction\n",
    "while time[len(time) - 1] != (time[0] + timedelta(hours=totaltime)):\n",
    "    time.append(time[len(time) - 1] + timedelta(hours=interval))\n",
    "    \n",
    "# Calcul du paramètre bbox\n",
    "minx,miny,maxx,maxy = x-0.25,y-0.25,x+0.25,y+0.25"
   ]
  },
  {
   "cell_type": "markdown",
   "metadata": {},
   "source": [
    "La requête peut maintenant être envoyée au WMS. Comme la réponse est un fichier texte contenant différentes informations, il faut ensuite extraire la probabilité que la température soit égale ou supérieure à 25°C du résultat de la requête. Afin d'obtenir la probabilité pour chaque date et heure désirée, une boucle est utilisée afin de refaire la requête pour chaque temps de prédiction déterminé précédemment. "
   ]
  },
  {
   "cell_type": "code",
   "execution_count": 5,
   "metadata": {
    "scrolled": true
   },
   "outputs": [
    {
     "name": "stdout",
     "output_type": "stream",
     "text": [
      "Pour la date et l'heure 05/09/2020 12:00:00, la probabilité que t°>=25°C est de 0.0%.\n",
      "Pour la date et l'heure 05/10/2020 00:00:00, la probabilité que t°>=25°C est de 0.0%.\n",
      "Pour la date et l'heure 05/10/2020 12:00:00, la probabilité que t°>=25°C est de 0.0%.\n",
      "Pour la date et l'heure 05/11/2020 00:00:00, la probabilité que t°>=25°C est de 0.0%.\n",
      "Pour la date et l'heure 05/11/2020 12:00:00, la probabilité que t°>=25°C est de 0.0%.\n"
     ]
    }
   ],
   "source": [
    "# Connexion au WMS\n",
    "wms = WebMapService('https://geo.weather.gc.ca/geomet?SERVICE=WMS&REQUEST=GetCapabilities', version='1.3.0')\n",
    "\n",
    "# Boucle pour effectuer les requêtes et extraire les probabilités\n",
    "info = []\n",
    "pixel_value = []\n",
    "i = 0\n",
    "while i <= len(time)-1:\n",
    "    info.append(wms.getfeatureinfo(layers=[layer],\n",
    "                       srs='EPSG:4326',\n",
    "                       bbox=(minx, miny, maxx, maxy),\n",
    "                       size=(100, 100),\n",
    "                       format='image/jpeg',\n",
    "                       query_layers=[layer],\n",
    "                       info_format='text/plain',\n",
    "                       xy=(50, 50),\n",
    "                       feature_count=1,\n",
    "                       time=str(time[i].isoformat()) + 'Z'\n",
    "                       ))\n",
    "    # Extraction des probabilités\n",
    "    text = info[i].read().decode('utf-8')\n",
    "    pixel_value.append(float(str(re.findall(\"value_0\\s=\\s\\W\\W*\\d*.*\\d+\", text)).strip('[\"\"]').rpartition(\"'\")[2]))\n",
    "    print(f'Pour la date et l\\'heure {time[i].strftime(\"%m/%d/%Y %H:%M:%S\")}, la probabilité que t°>=25°C est de {str(pixel_value[i])}%.')\n",
    "    i += 1"
   ]
  },
  {
   "cell_type": "markdown",
   "metadata": {},
   "source": [
    "Une fois les probabilités obtenues, Arthur doit calculer le rapport coût-perte de faire travailler un deuxième employé à la crèmerie. Comme mentionné plus tôt, Arthur sait qu'en moyenne, la crèmerie accueille 300 clients lorsque la température est de 25°C ou plus et qu'un employé n'est en mesure de servir que 200 clients par jour. Arthur a également calculé qu'un client lui rapporte en moyenne 3,50\\\\$. Chaque employé a un salaire horaire de 10$ et travaille 8 heures par jour, soit de l'ouverture à la fermeture de la crèmerie. Le coût représente donc le salaire du deuxième employé et les pertes représentent les profits perdus dus aux clients qui n'ont pas pu être servis par un seul employé."
   ]
  },
  {
   "cell_type": "code",
   "execution_count": 6,
   "metadata": {},
   "outputs": [
    {
     "name": "stdout",
     "output_type": "stream",
     "text": [
      "Le rapport coût-perte est de 0.23.\n"
     ]
    }
   ],
   "source": [
    "#Données de départ\n",
    "clients_above25 = 300 # Nombre de clients lorsque la température est de 25°C ou plus\n",
    "clients_served = 200 # Chaque employé peut servir 200 clients/jour\n",
    "profit_per_client = 3.5 # Un client rapporte en moyenne 3,50$\n",
    "salary = 10 # Les employés sont payés 10,00$/h\n",
    "hours_per_day = 8 # Les enployés travaillent 8h par jour\n",
    "\n",
    "# Coût pour ajouter un deuxième employé pendant une journée\n",
    "cost = hours_per_day*salary\n",
    "\n",
    "# Profits perdus si un seul employé est présent une journée où la température est supérieure à 25°C\n",
    "losses = (clients_above25-clients_served)*profit_per_client\n",
    "\n",
    "# Rapport coût-perte\n",
    "cost_losses_ratio = cost/losses\n",
    "\n",
    "print(f'Le rapport coût-perte est de {str(round(cost/losses, 2))}.')\n"
   ]
  },
  {
   "cell_type": "markdown",
   "metadata": {},
   "source": [
    "Afin de prendre une décision, Arthur veut comparer la perte moyenne engendrée si un seul employé travaille au coût que représente l'ajout un employé supplémentaire. La perte moyenne se calcule de la manière suivante:\n",
    "\n",
    "$$Pertes * Probabilité$$\n",
    "\n",
    "Pour que ce soit avantageux de faire travailler un deuxième employé, la perte moyenne si un seul employé travaille doit être supérieure au coût pour faire travailler un employé de plus donc: \n",
    "\n",
    "$$Pertes * Probabilité > Coût$$\n",
    "\n",
    "Si l'on réarrange l'équation, on obtient: \n",
    "\n",
    "$$Probabilité > Coût/Pertes$$\n",
    "\n",
    "Ainsi, si la probabilité que la température soit égale ou supérieure à 25°C est plus élevée que le rapport coût-perte, Arthur devrait faire travailler deux employés. Dans le cas contraire, il devrait en faire travailler un seul.\n"
   ]
  },
  {
   "cell_type": "code",
   "execution_count": 7,
   "metadata": {},
   "outputs": [
    {
     "name": "stdout",
     "output_type": "stream",
     "text": [
      "Pour la date et l'heure 05/09/2020 12:00:00, il est recommandé d'avoir un seul employé.\n",
      "Pour la date et l'heure 05/10/2020 00:00:00, il est recommandé d'avoir un seul employé.\n",
      "Pour la date et l'heure 05/10/2020 12:00:00, il est recommandé d'avoir un seul employé.\n",
      "Pour la date et l'heure 05/11/2020 00:00:00, il est recommandé d'avoir un seul employé.\n",
      "Pour la date et l'heure 05/11/2020 12:00:00, il est recommandé d'avoir un seul employé.\n"
     ]
    }
   ],
   "source": [
    "i = 0\n",
    "while i <= len(time)-1:\n",
    "    if pixel_value[i] > cost_losses_ratio:\n",
    "        print(f'Pour la date et l\\'heure {time[i].strftime(\"%m/%d/%Y %H:%M:%S\")}, il est recommandé d\\'avoir 2 employés.')\n",
    "    else:\n",
    "        print(f'Pour la date et l\\'heure {time[i].strftime(\"%m/%d/%Y %H:%M:%S\")}, il est recommandé d\\'avoir un seul employé.')\n",
    "    i += 1"
   ]
  },
  {
   "cell_type": "markdown",
   "metadata": {},
   "source": [
    "Grâce à cet outil d'aide à la décision, Arthur sait maintenant combien d'employés il devrait faire travailler chaque jour afin de maximiser les profits de sa crèmerie. En changeant les paramètres de la requête et les conditions déterminant quelle décision doit être prise, il est possible d'adapter le code Python de ce tutoriel pour répondre à vos besoins."
   ]
  }
 ],
 "metadata": {
  "kernelspec": {
   "display_name": "Python 3",
   "language": "python",
   "name": "python3"
  },
  "language_info": {
   "codemirror_mode": {
    "name": "ipython",
    "version": 3
   },
   "file_extension": ".py",
   "mimetype": "text/x-python",
   "name": "python",
   "nbconvert_exporter": "python",
   "pygments_lexer": "ipython3",
   "version": "3.7.4"
  }
 },
 "nbformat": 4,
 "nbformat_minor": 4
}
