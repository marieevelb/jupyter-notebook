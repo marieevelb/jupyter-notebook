{
 "cells": [
  {
   "cell_type": "markdown",
   "metadata": {},
   "source": [
    "# Tutoriel : utiliser les données ouvertes du Service météorologique du Canada pour l'aide à la décision\n",
    "\n",
    "Les données du Service météorologique du Canada peuvent aisément être intégrées à des outils d'aide à la décision afin de faciliter la prise de décisions critiques. Ce tutoriel vous montrera comment extraire et traiter les données météorologiques brutes à l'aide du langage de programmation [Python](https://www.python.org/) afin de créer un outil d'aide à la décision basé sur la notion du rapport coût-perte."
   ]
  },
  {
   "cell_type": "code",
   "execution_count": 1,
   "metadata": {},
   "outputs": [
    {
     "name": "stdout",
     "output_type": "stream",
     "text": [
      "Pour la date-heure 05/09/2020 00:00:00, la probabilité que t>25°C est 0.0.\n",
      "Pour la date-heure 05/09/2020 12:00:00, la probabilité que t>25°C est 0.0.\n",
      "Pour la date-heure 05/10/2020 00:00:00, la probabilité que t>25°C est 0.0.\n",
      "Pour la date-heure 05/10/2020 12:00:00, la probabilité que t>25°C est 0.0.\n",
      "Pour la date-heure 05/11/2020 00:00:00, la probabilité que t>25°C est 0.0.\n"
     ]
    }
   ],
   "source": [
    "from owslib.wms import WebMapService\n",
    "from datetime import datetime\n",
    "from datetime import timedelta\n",
    "import re\n",
    "\n",
    "# Choix des paramètres\n",
    "layer = 'REPS.DIAG.24_T8.ERGE25'  # Couche de données désirée\n",
    "y,x = 43.555, -73.55  # Coordonnées de l'endroit pour lequel on souhaite obtenir des prévisions\n",
    "timezone = -4 # Fuseau horaire local. Dans cet exemple, le fuseau horaire est UTC-04:00\n",
    "interval = 12 # Pas de temps entre les prédictions\n",
    "totaltime = 48 # Nombre d'heures totale de la période de prédiction\n",
    "#starttime = 'AAAA-MM-JJ HH:00:00' # Si date-heure locale de départ spécifique, utiliser cette variable en enlevant le #\n",
    "\n",
    "# Détermination de l'heure de départ à partir des premières prédictions disponibles\n",
    "now = datetime.now().replace(microsecond=0)\n",
    "\n",
    "if now < now.replace(hour=12, minute=0, second=0):\n",
    "    tn = [now.replace(hour=0, minute=0, second=0) + timedelta(days = 1)]\n",
    "else:\n",
    "    tn = [now.replace(hour=12, minute=0, second=0) + timedelta(days = 1)]\n",
    "\n",
    "# Si date-heure locale de départ spécifique, utiliser la ligne de code suivante en enlevant le # qui la précède\n",
    "# tn = [datetime.strptime(starttime, '%Y-%m-%d %H:%M:%S') + timedelta(hours=0-timezone)]\n",
    "\n",
    "# Calcul de l'heure de chaque prédiction\n",
    "while tn[len(tn) - 1] != (tn[0] + timedelta(hours=totaltime)):\n",
    "    tn.append(tn[len(tn) - 1] + timedelta(hours=interval))\n",
    "\n",
    "# Calcul de l'emprise\n",
    "minx,miny,maxx,maxy = x-0.25,y-0.25,x+0.25,y+0.25\n",
    "\n",
    "# Connection au WMS\n",
    "wms = WebMapService('https://geo.weather.gc.ca/geomet?SERVICE=WMS&REQUEST=GetCapabilities', version='1.3.0')\n",
    "\n",
    "# Boucle pour extraire les probabilités\n",
    "info = []\n",
    "pixel_value = []\n",
    "i = 0\n",
    "while i <= len(tn)-1:\n",
    "    info.append(wms.getfeatureinfo(layers=[layer],\n",
    "                       srs='EPSG:4326',\n",
    "                       bbox=(minx, miny, maxx, maxy),\n",
    "                       size=(100, 100),\n",
    "                       format='image/jpeg',\n",
    "                       query_layers=[layer],\n",
    "                       info_format='text/plain',\n",
    "                       xy=(50, 50),\n",
    "                       feature_count=1,\n",
    "                       time=str(tn[i].isoformat()) + 'Z'\n",
    "                       ))\n",
    "    # Extraction de la probabilité que la température soit supérieure à 25°C\n",
    "    text = info[i].read().decode('utf-8')\n",
    "    pixel_value.append(float(str(re.findall(\"value_0\\s=\\s\\W\\W*\\d*.*\\d+\", text)).strip('[\"\"]').rpartition(\"'\")[2]))\n",
    "    print('Pour la date-heure ' + tn[i].strftime(\"%m/%d/%Y %H:%M:%S\") + ', la probabilité que t>25°C est ' + str(pixel_value[i]) + '.')\n",
    "    i += 1"
   ]
  },
  {
   "cell_type": "code",
   "execution_count": 2,
   "metadata": {},
   "outputs": [
    {
     "name": "stdout",
     "output_type": "stream",
     "text": [
      "Le rapport coût-perte est de 0.23.\n"
     ]
    }
   ],
   "source": [
    "#Données de départ\n",
    "clients_under25 = 150 # Lorsque la température est inférieure à 25°C, la crèmerie a 150 clients par jour en moyenne\n",
    "clients_above25 = 300 # Lorsque la température est supérieure à 25°C, la crèmerie a 300 clients par jour en moyenne\n",
    "clients_served = 200 # Chaque employé peut servir 200 clients/jour\n",
    "salary = 10 # Les employés sont payés 10,00$/h\n",
    "profit_per_client = 3.5 # Un client rapporte en moyenne 3,50$\n",
    "hours_per_day = 8 # Les enployés travaillent de l'ouverture à la fermeture, 8h par jour\n",
    "\n",
    "# Coûts pour ajouter un deuxième employé pendant une journée\n",
    "cost = hours_per_day*salary\n",
    "\n",
    "# Profits perdus si un seul employé est présent une journée où la température est supérieure à 25°C\n",
    "losses = (clients_above25-clients_served)*profit_per_client\n",
    "\n",
    "# Rapport coût-perte\n",
    "cost_losses_ratio = cost/losses\n",
    "\n",
    "print('Le rapport coût-perte est de ' + str(round(cost/losses, 2)) +'.')\n"
   ]
  },
  {
   "cell_type": "code",
   "execution_count": 3,
   "metadata": {},
   "outputs": [
    {
     "name": "stdout",
     "output_type": "stream",
     "text": [
      "Pour la date-heure 05/09/2020 00:00:00, il est recommandé d'avoir un seul employé.\n",
      "Pour la date-heure 05/09/2020 12:00:00, il est recommandé d'avoir un seul employé.\n",
      "Pour la date-heure 05/10/2020 00:00:00, il est recommandé d'avoir un seul employé.\n",
      "Pour la date-heure 05/10/2020 12:00:00, il est recommandé d'avoir un seul employé.\n",
      "Pour la date-heure 05/11/2020 00:00:00, il est recommandé d'avoir un seul employé.\n"
     ]
    }
   ],
   "source": [
    "i = 0\n",
    "while i <= len(tn)-1:\n",
    "    if pixel_value[i] > cost_losses_ratio:\n",
    "        print('Pour la date-heure ' + tn[i].strftime(\"%m/%d/%Y %H:%M:%S\") + \", il est recommandé d'avoir 2 employés.\")\n",
    "    else:\n",
    "        print('Pour la date-heure ' + tn[i].strftime(\"%m/%d/%Y %H:%M:%S\") + \", il est recommandé d'avoir un seul employé.\")\n",
    "    i += 1"
   ]
  }
 ],
 "metadata": {
  "kernelspec": {
   "display_name": "Python 3",
   "language": "python",
   "name": "python3"
  },
  "language_info": {
   "codemirror_mode": {
    "name": "ipython",
    "version": 3
   },
   "file_extension": ".py",
   "mimetype": "text/x-python",
   "name": "python",
   "nbconvert_exporter": "python",
   "pygments_lexer": "ipython3",
   "version": "3.7.4"
  }
 },
 "nbformat": 4,
 "nbformat_minor": 4
}
